{
 "cells": [
  {
   "attachments": {},
   "cell_type": "markdown",
   "metadata": {},
   "source": [
    "# Final Project Notebook"
   ]
  },
  {
   "attachments": {},
   "cell_type": "markdown",
   "metadata": {},
   "source": [
    "## Introduction\n",
    "Welcome to my final project notebook! In this notebook, I will be showcasing my work on various exercises related to data science and programming. I will be covering different topics such as data science languages, libraries, tools, arithmetic expressions, and more. So let's dive in and explore the world of data science!"
   ]
  },
  {
   "attachments": {},
   "cell_type": "markdown",
   "metadata": {},
   "source": [
    "## Data Science Languages\n",
    "- Python\n",
    "- R\n",
    "- Julia\n",
    "- SQL\n",
    "- SAS\n",
    "- MATLAB\n",
    "- Scala\n",
    "- Java"
   ]
  },
  {
   "attachments": {},
   "cell_type": "markdown",
   "metadata": {},
   "source": [
    "## Data Science Libraries\n",
    "- NumPy\n",
    "- Pandas\n",
    "- Matplotlib\n",
    "- Seaborn\n",
    "- Scikit-learn\n",
    "- TensorFlow\n",
    "- Keras\n",
    "- PyTorch"
   ]
  },
  {
   "attachments": {},
   "cell_type": "markdown",
   "metadata": {},
   "source": [
    "## Data Science Tools\n",
    "\n",
    "| Category          | Tools                                 |\n",
    "|-------------------|---------------------------------------|\n",
    "| Data Manipulation | Pandas, dplyr, SQL, OpenRefine         |\n",
    "| Data Visualization| Matplotlib, Seaborn, ggplot2           |\n",
    "| Machine Learning  | Scikit-learn, TensorFlow, PyTorch      |\n",
    "| Big Data          | Apache Spark, Hadoop, Hive, Pig        |\n",
    "| Data Mining       | WEKA, RapidMiner, Orange               |\n",
    "| Natural Language Processing | NLTK, SpaCy, Gensim          |"
   ]
  },
  {
   "attachments": {},
   "cell_type": "markdown",
   "metadata": {},
   "source": [
    "## Arithmetic Expression Examples\n",
    "Arithmetic expressions involve mathematical operations such as addition, subtraction, multiplication, and division. They are commonly used in programming and data science for calculations. Let's explore some examples of arithmetic expressions and how they can be used in code."
   ]
  },
  {
   "cell_type": "code",
   "execution_count": 1,
   "metadata": {},
   "outputs": [
    {
     "name": "stdout",
     "output_type": "stream",
     "text": [
      "Multiplication: 50\n",
      "Addition: 10\n"
     ]
    }
   ],
   "source": [
    "# Multiplication\n",
    "num1 = 5\n",
    "num2 = 10\n",
    "result_multiply = num1 * num2\n",
    "print(\"Multiplication:\", result_multiply)\n",
    "\n",
    "# Addition\n",
    "num3 = 7\n",
    "num4 = 3\n",
    "result_addition = num3 + num4\n",
    "print(\"Addition:\", result_addition)"
   ]
  },
  {
   "cell_type": "code",
   "execution_count": 2,
   "metadata": {},
   "outputs": [
    {
     "name": "stdout",
     "output_type": "stream",
     "text": [
      "Hours: 2.0\n"
     ]
    }
   ],
   "source": [
    "def convert_minutes_to_hours(minutes):\n",
    "    hours = minutes / 60\n",
    "    return hours\n",
    "\n",
    "minutes = 120\n",
    "hours_result = convert_minutes_to_hours(minutes)\n",
    "print(\"Hours:\", hours_result)\n"
   ]
  },
  {
   "attachments": {},
   "cell_type": "markdown",
   "metadata": {},
   "source": [
    "## Objectives\n",
    "1. Explore different data science languages and libraries.\n",
    "2. Understand arithmetic expressions and their usage in programming.\n",
    "3. Convert minutes to hours using a Python function.\n",
    "4. Showcase knowledge of markdown formatting.\n",
    "5. Share the notebook on GitHub."
   ]
  },
  {
   "attachments": {},
   "cell_type": "markdown",
   "metadata": {},
   "source": [
    "## Author\n",
    "Leonardo Soares da Costa Tanaka"
   ]
  }
 ],
 "metadata": {
  "kernelspec": {
   "display_name": "Python 3",
   "language": "python",
   "name": "python3"
  },
  "language_info": {
   "codemirror_mode": {
    "name": "ipython",
    "version": 3
   },
   "file_extension": ".py",
   "mimetype": "text/x-python",
   "name": "python",
   "nbconvert_exporter": "python",
   "pygments_lexer": "ipython3",
   "version": "3.10.4"
  },
  "orig_nbformat": 4
 },
 "nbformat": 4,
 "nbformat_minor": 2
}
